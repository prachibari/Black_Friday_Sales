{
 "cells": [
  {
   "cell_type": "markdown",
   "metadata": {},
   "source": [
    "# Black Friday Dataset\n",
    "The dataset here is a sample of the transactions made in a retail store. The store wants to know better the customer purchase behaviour against different products. Specifically, here the problem is a regression problem where we are trying to predict the dependent variable (the amount of purchase) with the help of the information contained in the other variables."
   ]
  },
  {
   "cell_type": "markdown",
   "metadata": {},
   "source": [
    "## 1. Data Cleaning"
   ]
  },
  {
   "cell_type": "code",
   "execution_count": 1,
   "metadata": {
    "collapsed": true
   },
   "outputs": [],
   "source": [
    "# importing libraries\n",
    "import numpy as np \n",
    "import pandas as pd\n",
    "import seaborn as sns\n",
    "import matplotlib.pyplot as plt\n",
    "%matplotlib inline"
   ]
  },
  {
   "cell_type": "code",
   "execution_count": 2,
   "metadata": {
    "collapsed": false
   },
   "outputs": [
    {
     "data": {
      "text/html": [
       "<div>\n",
       "<table border=\"1\" class=\"dataframe\">\n",
       "  <thead>\n",
       "    <tr style=\"text-align: right;\">\n",
       "      <th></th>\n",
       "      <th>User_ID</th>\n",
       "      <th>Product_ID</th>\n",
       "      <th>Gender</th>\n",
       "      <th>Age</th>\n",
       "      <th>Occupation</th>\n",
       "      <th>City_Category</th>\n",
       "      <th>Stay_In_Current_City_Years</th>\n",
       "      <th>Marital_Status</th>\n",
       "      <th>Product_Category_1</th>\n",
       "      <th>Product_Category_2</th>\n",
       "      <th>Product_Category_3</th>\n",
       "      <th>Purchase</th>\n",
       "    </tr>\n",
       "  </thead>\n",
       "  <tbody>\n",
       "    <tr>\n",
       "      <th>0</th>\n",
       "      <td>1000001</td>\n",
       "      <td>P00069042</td>\n",
       "      <td>F</td>\n",
       "      <td>0-17</td>\n",
       "      <td>10</td>\n",
       "      <td>A</td>\n",
       "      <td>2</td>\n",
       "      <td>0</td>\n",
       "      <td>3</td>\n",
       "      <td>NaN</td>\n",
       "      <td>NaN</td>\n",
       "      <td>8370</td>\n",
       "    </tr>\n",
       "    <tr>\n",
       "      <th>1</th>\n",
       "      <td>1000001</td>\n",
       "      <td>P00248942</td>\n",
       "      <td>F</td>\n",
       "      <td>0-17</td>\n",
       "      <td>10</td>\n",
       "      <td>A</td>\n",
       "      <td>2</td>\n",
       "      <td>0</td>\n",
       "      <td>1</td>\n",
       "      <td>6.0</td>\n",
       "      <td>14.0</td>\n",
       "      <td>15200</td>\n",
       "    </tr>\n",
       "    <tr>\n",
       "      <th>2</th>\n",
       "      <td>1000001</td>\n",
       "      <td>P00087842</td>\n",
       "      <td>F</td>\n",
       "      <td>0-17</td>\n",
       "      <td>10</td>\n",
       "      <td>A</td>\n",
       "      <td>2</td>\n",
       "      <td>0</td>\n",
       "      <td>12</td>\n",
       "      <td>NaN</td>\n",
       "      <td>NaN</td>\n",
       "      <td>1422</td>\n",
       "    </tr>\n",
       "    <tr>\n",
       "      <th>3</th>\n",
       "      <td>1000001</td>\n",
       "      <td>P00085442</td>\n",
       "      <td>F</td>\n",
       "      <td>0-17</td>\n",
       "      <td>10</td>\n",
       "      <td>A</td>\n",
       "      <td>2</td>\n",
       "      <td>0</td>\n",
       "      <td>12</td>\n",
       "      <td>14.0</td>\n",
       "      <td>NaN</td>\n",
       "      <td>1057</td>\n",
       "    </tr>\n",
       "    <tr>\n",
       "      <th>4</th>\n",
       "      <td>1000002</td>\n",
       "      <td>P00285442</td>\n",
       "      <td>M</td>\n",
       "      <td>55+</td>\n",
       "      <td>16</td>\n",
       "      <td>C</td>\n",
       "      <td>4+</td>\n",
       "      <td>0</td>\n",
       "      <td>8</td>\n",
       "      <td>NaN</td>\n",
       "      <td>NaN</td>\n",
       "      <td>7969</td>\n",
       "    </tr>\n",
       "  </tbody>\n",
       "</table>\n",
       "</div>"
      ],
      "text/plain": [
       "   User_ID Product_ID Gender   Age  Occupation City_Category  \\\n",
       "0  1000001  P00069042      F  0-17          10             A   \n",
       "1  1000001  P00248942      F  0-17          10             A   \n",
       "2  1000001  P00087842      F  0-17          10             A   \n",
       "3  1000001  P00085442      F  0-17          10             A   \n",
       "4  1000002  P00285442      M   55+          16             C   \n",
       "\n",
       "  Stay_In_Current_City_Years  Marital_Status  Product_Category_1  \\\n",
       "0                          2               0                   3   \n",
       "1                          2               0                   1   \n",
       "2                          2               0                  12   \n",
       "3                          2               0                  12   \n",
       "4                         4+               0                   8   \n",
       "\n",
       "   Product_Category_2  Product_Category_3  Purchase  \n",
       "0                 NaN                 NaN      8370  \n",
       "1                 6.0                14.0     15200  \n",
       "2                 NaN                 NaN      1422  \n",
       "3                14.0                 NaN      1057  \n",
       "4                 NaN                 NaN      7969  "
      ]
     },
     "execution_count": 2,
     "metadata": {},
     "output_type": "execute_result"
    }
   ],
   "source": [
    "df = pd.read_csv('BlackFriday.csv')\n",
    "df.head()"
   ]
  },
  {
   "cell_type": "code",
   "execution_count": 3,
   "metadata": {
    "collapsed": false
   },
   "outputs": [
    {
     "data": {
      "text/plain": [
       "User_ID                            0\n",
       "Product_ID                         0\n",
       "Gender                             0\n",
       "Age                                0\n",
       "Occupation                         0\n",
       "City_Category                      0\n",
       "Stay_In_Current_City_Years         0\n",
       "Marital_Status                     0\n",
       "Product_Category_1                 0\n",
       "Product_Category_2            166986\n",
       "Product_Category_3            373299\n",
       "Purchase                           0\n",
       "dtype: int64"
      ]
     },
     "execution_count": 3,
     "metadata": {},
     "output_type": "execute_result"
    }
   ],
   "source": [
    "df.isnull().sum()"
   ]
  },
  {
   "cell_type": "markdown",
   "metadata": {},
   "source": [
    "##### Product_Category_2 and Product_Category_2 have many NA values, maybe because the customers didnt buy this product."
   ]
  },
  {
   "cell_type": "code",
   "execution_count": 4,
   "metadata": {
    "collapsed": false
   },
   "outputs": [
    {
     "name": "stdout",
     "output_type": "stream",
     "text": [
      "[nan  6. 14.  2.  8. 15. 16. 11.  5.  3.  4. 12.  9. 10. 17. 13.  7. 18.]\n",
      "[nan 14. 17.  5.  4. 16. 15.  8.  9. 13.  6. 12.  3. 18. 11. 10.]\n"
     ]
    }
   ],
   "source": [
    "print(df['Product_Category_2'].unique())\n",
    "print(df['Product_Category_3'].unique())"
   ]
  },
  {
   "cell_type": "markdown",
   "metadata": {},
   "source": [
    "##### We can see that all are numeric values. We will replace the nan values with 0 assuming person didnt buy a product of that category."
   ]
  },
  {
   "cell_type": "code",
   "execution_count": 5,
   "metadata": {
    "collapsed": true
   },
   "outputs": [],
   "source": [
    "df.fillna(0,inplace=True)"
   ]
  },
  {
   "cell_type": "code",
   "execution_count": 6,
   "metadata": {
    "collapsed": false
   },
   "outputs": [
    {
     "name": "stdout",
     "output_type": "stream",
     "text": [
      "(537577, 12)\n"
     ]
    },
    {
     "data": {
      "text/plain": [
       "User_ID                         int64\n",
       "Product_ID                     object\n",
       "Gender                         object\n",
       "Age                            object\n",
       "Occupation                      int64\n",
       "City_Category                  object\n",
       "Stay_In_Current_City_Years     object\n",
       "Marital_Status                  int64\n",
       "Product_Category_1              int64\n",
       "Product_Category_2            float64\n",
       "Product_Category_3            float64\n",
       "Purchase                        int64\n",
       "dtype: object"
      ]
     },
     "execution_count": 6,
     "metadata": {},
     "output_type": "execute_result"
    }
   ],
   "source": [
    "print(df.shape)\n",
    "df.dtypes"
   ]
  },
  {
   "cell_type": "markdown",
   "metadata": {},
   "source": [
    "##### Checking the unique values of categorical columns"
   ]
  },
  {
   "cell_type": "markdown",
   "metadata": {},
   "source": [
    "##### 1. Gender"
   ]
  },
  {
   "cell_type": "code",
   "execution_count": 7,
   "metadata": {
    "collapsed": false
   },
   "outputs": [
    {
     "data": {
      "text/plain": [
       "M    405380\n",
       "F    132197\n",
       "Name: Gender, dtype: int64"
      ]
     },
     "execution_count": 7,
     "metadata": {},
     "output_type": "execute_result"
    }
   ],
   "source": [
    "df['Gender'].value_counts()"
   ]
  },
  {
   "cell_type": "markdown",
   "metadata": {},
   "source": [
    "##### 2. Age"
   ]
  },
  {
   "cell_type": "code",
   "execution_count": 8,
   "metadata": {
    "collapsed": false
   },
   "outputs": [
    {
     "data": {
      "text/plain": [
       "26-35    214690\n",
       "36-45    107499\n",
       "18-25     97634\n",
       "46-50     44526\n",
       "51-55     37618\n",
       "55+       20903\n",
       "0-17      14707\n",
       "Name: Age, dtype: int64"
      ]
     },
     "execution_count": 8,
     "metadata": {},
     "output_type": "execute_result"
    }
   ],
   "source": [
    "df['Age'].value_counts()"
   ]
  },
  {
   "cell_type": "markdown",
   "metadata": {},
   "source": [
    "##### 3. City_Category"
   ]
  },
  {
   "cell_type": "code",
   "execution_count": 9,
   "metadata": {
    "collapsed": false
   },
   "outputs": [
    {
     "data": {
      "text/plain": [
       "B    226493\n",
       "C    166446\n",
       "A    144638\n",
       "Name: City_Category, dtype: int64"
      ]
     },
     "execution_count": 9,
     "metadata": {},
     "output_type": "execute_result"
    }
   ],
   "source": [
    "df['City_Category'].value_counts()"
   ]
  },
  {
   "cell_type": "markdown",
   "metadata": {},
   "source": [
    "##### 4. Stay_In_Current_City_Years"
   ]
  },
  {
   "cell_type": "code",
   "execution_count": 10,
   "metadata": {
    "collapsed": false
   },
   "outputs": [
    {
     "data": {
      "text/plain": [
       "1     189192\n",
       "2      99459\n",
       "3      93312\n",
       "4+     82889\n",
       "0      72725\n",
       "Name: Stay_In_Current_City_Years, dtype: int64"
      ]
     },
     "execution_count": 10,
     "metadata": {},
     "output_type": "execute_result"
    }
   ],
   "source": [
    "df['Stay_In_Current_City_Years'].value_counts()"
   ]
  },
  {
   "cell_type": "markdown",
   "metadata": {},
   "source": [
    "###### Replacing 4+ with 4 in Stay_In_Current_City_Years"
   ]
  },
  {
   "cell_type": "code",
   "execution_count": 11,
   "metadata": {
    "collapsed": false
   },
   "outputs": [
    {
     "data": {
      "text/plain": [
       "1    189192\n",
       "2     99459\n",
       "3     93312\n",
       "4     82889\n",
       "0     72725\n",
       "Name: Stay_In_Current_City_Years, dtype: int64"
      ]
     },
     "execution_count": 11,
     "metadata": {},
     "output_type": "execute_result"
    }
   ],
   "source": [
    "df['Stay_In_Current_City_Years']\n",
    "df['Stay_In_Current_City_Years'] = df['Stay_In_Current_City_Years'].replace({'4+':4})\n",
    "df['Stay_In_Current_City_Years'].value_counts()"
   ]
  },
  {
   "cell_type": "code",
   "execution_count": 12,
   "metadata": {
    "collapsed": false
   },
   "outputs": [
    {
     "data": {
      "text/plain": [
       "0    317817\n",
       "1    219760\n",
       "Name: Marital_Status, dtype: int64"
      ]
     },
     "execution_count": 12,
     "metadata": {},
     "output_type": "execute_result"
    }
   ],
   "source": [
    "df['Marital_Status'].value_counts()"
   ]
  },
  {
   "cell_type": "markdown",
   "metadata": {},
   "source": [
    "##### dropping columns User_ID and Product_ID"
   ]
  },
  {
   "cell_type": "code",
   "execution_count": 13,
   "metadata": {
    "collapsed": false
   },
   "outputs": [
    {
     "data": {
      "text/html": [
       "<div>\n",
       "<table border=\"1\" class=\"dataframe\">\n",
       "  <thead>\n",
       "    <tr style=\"text-align: right;\">\n",
       "      <th></th>\n",
       "      <th>Gender</th>\n",
       "      <th>Age</th>\n",
       "      <th>Occupation</th>\n",
       "      <th>City_Category</th>\n",
       "      <th>Stay_In_Current_City_Years</th>\n",
       "      <th>Marital_Status</th>\n",
       "      <th>Product_Category_1</th>\n",
       "      <th>Product_Category_2</th>\n",
       "      <th>Product_Category_3</th>\n",
       "      <th>Purchase</th>\n",
       "    </tr>\n",
       "  </thead>\n",
       "  <tbody>\n",
       "    <tr>\n",
       "      <th>0</th>\n",
       "      <td>F</td>\n",
       "      <td>0-17</td>\n",
       "      <td>10</td>\n",
       "      <td>A</td>\n",
       "      <td>2</td>\n",
       "      <td>0</td>\n",
       "      <td>3</td>\n",
       "      <td>0.0</td>\n",
       "      <td>0.0</td>\n",
       "      <td>8370</td>\n",
       "    </tr>\n",
       "    <tr>\n",
       "      <th>1</th>\n",
       "      <td>F</td>\n",
       "      <td>0-17</td>\n",
       "      <td>10</td>\n",
       "      <td>A</td>\n",
       "      <td>2</td>\n",
       "      <td>0</td>\n",
       "      <td>1</td>\n",
       "      <td>6.0</td>\n",
       "      <td>14.0</td>\n",
       "      <td>15200</td>\n",
       "    </tr>\n",
       "    <tr>\n",
       "      <th>2</th>\n",
       "      <td>F</td>\n",
       "      <td>0-17</td>\n",
       "      <td>10</td>\n",
       "      <td>A</td>\n",
       "      <td>2</td>\n",
       "      <td>0</td>\n",
       "      <td>12</td>\n",
       "      <td>0.0</td>\n",
       "      <td>0.0</td>\n",
       "      <td>1422</td>\n",
       "    </tr>\n",
       "    <tr>\n",
       "      <th>3</th>\n",
       "      <td>F</td>\n",
       "      <td>0-17</td>\n",
       "      <td>10</td>\n",
       "      <td>A</td>\n",
       "      <td>2</td>\n",
       "      <td>0</td>\n",
       "      <td>12</td>\n",
       "      <td>14.0</td>\n",
       "      <td>0.0</td>\n",
       "      <td>1057</td>\n",
       "    </tr>\n",
       "    <tr>\n",
       "      <th>4</th>\n",
       "      <td>M</td>\n",
       "      <td>55+</td>\n",
       "      <td>16</td>\n",
       "      <td>C</td>\n",
       "      <td>4</td>\n",
       "      <td>0</td>\n",
       "      <td>8</td>\n",
       "      <td>0.0</td>\n",
       "      <td>0.0</td>\n",
       "      <td>7969</td>\n",
       "    </tr>\n",
       "  </tbody>\n",
       "</table>\n",
       "</div>"
      ],
      "text/plain": [
       "  Gender   Age  Occupation City_Category Stay_In_Current_City_Years  \\\n",
       "0      F  0-17          10             A                          2   \n",
       "1      F  0-17          10             A                          2   \n",
       "2      F  0-17          10             A                          2   \n",
       "3      F  0-17          10             A                          2   \n",
       "4      M   55+          16             C                          4   \n",
       "\n",
       "   Marital_Status  Product_Category_1  Product_Category_2  Product_Category_3  \\\n",
       "0               0                   3                 0.0                 0.0   \n",
       "1               0                   1                 6.0                14.0   \n",
       "2               0                  12                 0.0                 0.0   \n",
       "3               0                  12                14.0                 0.0   \n",
       "4               0                   8                 0.0                 0.0   \n",
       "\n",
       "   Purchase  \n",
       "0      8370  \n",
       "1     15200  \n",
       "2      1422  \n",
       "3      1057  \n",
       "4      7969  "
      ]
     },
     "execution_count": 13,
     "metadata": {},
     "output_type": "execute_result"
    }
   ],
   "source": [
    "df.drop(['User_ID','Product_ID'],axis=1,inplace=True)\n",
    "df.head()"
   ]
  },
  {
   "cell_type": "markdown",
   "metadata": {},
   "source": [
    "##### Changing datatype of Product_Category_2 and Product_Category_3 from float to int"
   ]
  },
  {
   "cell_type": "code",
   "execution_count": 14,
   "metadata": {
    "collapsed": false
   },
   "outputs": [
    {
     "data": {
      "text/plain": [
       "Gender                        object\n",
       "Age                           object\n",
       "Occupation                     int64\n",
       "City_Category                 object\n",
       "Stay_In_Current_City_Years    object\n",
       "Marital_Status                 int64\n",
       "Product_Category_1             int64\n",
       "Product_Category_2             int32\n",
       "Product_Category_3             int32\n",
       "Purchase                       int64\n",
       "dtype: object"
      ]
     },
     "execution_count": 14,
     "metadata": {},
     "output_type": "execute_result"
    }
   ],
   "source": [
    "df[\"Product_Category_2\"] = df[\"Product_Category_2\"].astype(int)\n",
    "df[\"Product_Category_3\"] = df[\"Product_Category_3\"].astype(int)\n",
    "df.dtypes"
   ]
  },
  {
   "cell_type": "markdown",
   "metadata": {},
   "source": [
    "## 2. Exploratory Data Analysis"
   ]
  },
  {
   "cell_type": "code",
   "execution_count": 15,
   "metadata": {
    "collapsed": false
   },
   "outputs": [
    {
     "data": {
      "text/plain": [
       "<matplotlib.axes._subplots.AxesSubplot at 0x2295e5c4278>"
      ]
     },
     "execution_count": 15,
     "metadata": {},
     "output_type": "execute_result"
    },
    {
     "data": {
      "image/png": "[encoded data removed]",
      "text/plain": [
       "<Figure size 432x288 with 1 Axes>"
      ]
     },
     "metadata": {},
     "output_type": "display_data"
    }
   ],
   "source": [
    "df[\"Gender\"].value_counts().plot.pie(legend=True)"
   ]
  },
  {
   "cell_type": "markdown",
   "metadata": {},
   "source": [
    "##### We can see the proportion of males is larger than females"
   ]
  },
  {
   "cell_type": "code",
   "execution_count": 16,
   "metadata": {
    "collapsed": false
   },
   "outputs": [
    {
     "data": {
      "text/plain": [
       "<matplotlib.axes._subplots.AxesSubplot at 0x2295e65ef98>"
      ]
     },
     "execution_count": 16,
     "metadata": {},
     "output_type": "execute_result"
    },
    {
     "data": {
      "image/png": "[encoded data removed]",
      "text/plain": [
       "<Figure size 432x288 with 1 Axes>"
      ]
     },
     "metadata": {},
     "output_type": "display_data"
    }
   ],
   "source": [
    "sns.countplot(df['Age'],hue=df['Gender'],data=df)"
   ]
  },
  {
   "cell_type": "markdown",
   "metadata": {},
   "source": [
    "#### We can see that people of age group 26-35 mostly attended this sale followed by people of age group 18-25 and 36-45. The plot shows that the proportion of males is more. This may also be the case since if people are married, males do the payments."
   ]
  },
  {
   "cell_type": "code",
   "execution_count": 17,
   "metadata": {
    "collapsed": false
   },
   "outputs": [
    {
     "data": {
      "text/html": [
       "<div>\n",
       "<table border=\"1\" class=\"dataframe\">\n",
       "  <thead>\n",
       "    <tr style=\"text-align: right;\">\n",
       "      <th></th>\n",
       "      <th></th>\n",
       "      <th></th>\n",
       "      <th>Marital_Status</th>\n",
       "    </tr>\n",
       "    <tr>\n",
       "      <th>Age</th>\n",
       "      <th>Marital_Status</th>\n",
       "      <th>Gender</th>\n",
       "      <th></th>\n",
       "    </tr>\n",
       "  </thead>\n",
       "  <tbody>\n",
       "    <tr>\n",
       "      <th rowspan=\"2\" valign=\"top\">0-17</th>\n",
       "      <th rowspan=\"2\" valign=\"top\">Not Married</th>\n",
       "      <th>F</th>\n",
       "      <td>4953</td>\n",
       "    </tr>\n",
       "    <tr>\n",
       "      <th>M</th>\n",
       "      <td>9754</td>\n",
       "    </tr>\n",
       "    <tr>\n",
       "      <th rowspan=\"4\" valign=\"top\">18-25</th>\n",
       "      <th rowspan=\"2\" valign=\"top\">Married</th>\n",
       "      <th>F</th>\n",
       "      <td>6117</td>\n",
       "    </tr>\n",
       "    <tr>\n",
       "      <th>M</th>\n",
       "      <td>14524</td>\n",
       "    </tr>\n",
       "    <tr>\n",
       "      <th rowspan=\"2\" valign=\"top\">Not Married</th>\n",
       "      <th>F</th>\n",
       "      <td>17940</td>\n",
       "    </tr>\n",
       "    <tr>\n",
       "      <th>M</th>\n",
       "      <td>59053</td>\n",
       "    </tr>\n",
       "    <tr>\n",
       "      <th rowspan=\"4\" valign=\"top\">26-35</th>\n",
       "      <th rowspan=\"2\" valign=\"top\">Married</th>\n",
       "      <th>F</th>\n",
       "      <td>19959</td>\n",
       "    </tr>\n",
       "    <tr>\n",
       "      <th>M</th>\n",
       "      <td>64207</td>\n",
       "    </tr>\n",
       "    <tr>\n",
       "      <th rowspan=\"2\" valign=\"top\">Not Married</th>\n",
       "      <th>F</th>\n",
       "      <td>29389</td>\n",
       "    </tr>\n",
       "    <tr>\n",
       "      <th>M</th>\n",
       "      <td>101135</td>\n",
       "    </tr>\n",
       "    <tr>\n",
       "      <th rowspan=\"4\" valign=\"top\">36-45</th>\n",
       "      <th rowspan=\"2\" valign=\"top\">Married</th>\n",
       "      <th>F</th>\n",
       "      <td>10115</td>\n",
       "    </tr>\n",
       "    <tr>\n",
       "      <th>M</th>\n",
       "      <td>32392</td>\n",
       "    </tr>\n",
       "    <tr>\n",
       "      <th rowspan=\"2\" valign=\"top\">Not Married</th>\n",
       "      <th>F</th>\n",
       "      <td>16305</td>\n",
       "    </tr>\n",
       "    <tr>\n",
       "      <th>M</th>\n",
       "      <td>48687</td>\n",
       "    </tr>\n",
       "    <tr>\n",
       "      <th rowspan=\"4\" valign=\"top\">46-50</th>\n",
       "      <th rowspan=\"2\" valign=\"top\">Married</th>\n",
       "      <th>F</th>\n",
       "      <td>9797</td>\n",
       "    </tr>\n",
       "    <tr>\n",
       "      <th>M</th>\n",
       "      <td>22397</td>\n",
       "    </tr>\n",
       "    <tr>\n",
       "      <th rowspan=\"2\" valign=\"top\">Not Married</th>\n",
       "      <th>F</th>\n",
       "      <td>3059</td>\n",
       "    </tr>\n",
       "    <tr>\n",
       "      <th>M</th>\n",
       "      <td>9273</td>\n",
       "    </tr>\n",
       "    <tr>\n",
       "      <th rowspan=\"4\" valign=\"top\">51-55</th>\n",
       "      <th rowspan=\"2\" valign=\"top\">Married</th>\n",
       "      <th>F</th>\n",
       "      <td>6150</td>\n",
       "    </tr>\n",
       "    <tr>\n",
       "      <th>M</th>\n",
       "      <td>20829</td>\n",
       "    </tr>\n",
       "    <tr>\n",
       "      <th rowspan=\"2\" valign=\"top\">Not Married</th>\n",
       "      <th>F</th>\n",
       "      <td>3484</td>\n",
       "    </tr>\n",
       "    <tr>\n",
       "      <th>M</th>\n",
       "      <td>7155</td>\n",
       "    </tr>\n",
       "    <tr>\n",
       "      <th rowspan=\"4\" valign=\"top\">55+</th>\n",
       "      <th rowspan=\"2\" valign=\"top\">Married</th>\n",
       "      <th>F</th>\n",
       "      <td>3085</td>\n",
       "    </tr>\n",
       "    <tr>\n",
       "      <th>M</th>\n",
       "      <td>10188</td>\n",
       "    </tr>\n",
       "    <tr>\n",
       "      <th rowspan=\"2\" valign=\"top\">Not Married</th>\n",
       "      <th>F</th>\n",
       "      <td>1844</td>\n",
       "    </tr>\n",
       "    <tr>\n",
       "      <th>M</th>\n",
       "      <td>5786</td>\n",
       "    </tr>\n",
       "  </tbody>\n",
       "</table>\n",
       "</div>"
      ],
      "text/plain": [
       "                             Marital_Status\n",
       "Age   Marital_Status Gender                \n",
       "0-17  Not Married    F                 4953\n",
       "                     M                 9754\n",
       "18-25 Married        F                 6117\n",
       "                     M                14524\n",
       "      Not Married    F                17940\n",
       "                     M                59053\n",
       "26-35 Married        F                19959\n",
       "                     M                64207\n",
       "      Not Married    F                29389\n",
       "                     M               101135\n",
       "36-45 Married        F                10115\n",
       "                     M                32392\n",
       "      Not Married    F                16305\n",
       "                     M                48687\n",
       "46-50 Married        F                 9797\n",
       "                     M                22397\n",
       "      Not Married    F                 3059\n",
       "                     M                 9273\n",
       "51-55 Married        F                 6150\n",
       "                     M                20829\n",
       "      Not Married    F                 3484\n",
       "                     M                 7155\n",
       "55+   Married        F                 3085\n",
       "                     M                10188\n",
       "      Not Married    F                 1844\n",
       "                     M                 5786"
      ]
     },
     "execution_count": 17,
     "metadata": {},
     "output_type": "execute_result"
    }
   ],
   "source": [
    "df['Marital_Status']= df.Marital_Status.replace({0:'Not Married',1:'Married'})\n",
    "df.groupby(['Age','Marital_Status','Gender'])[['Marital_Status']].count()"
   ]
  },
  {
   "cell_type": "code",
   "execution_count": 18,
   "metadata": {
    "collapsed": false
   },
   "outputs": [
    {
     "data": {
      "text/plain": [
       "<matplotlib.axes._subplots.AxesSubplot at 0x2295e6ea630>"
      ]
     },
     "execution_count": 18,
     "metadata": {},
     "output_type": "execute_result"
    },
    {
     "data": {
      "image/png": "[encoded data removed]",
      "text/plain": [
       "<Figure size 432x288 with 1 Axes>"
      ]
     },
     "metadata": {},
     "output_type": "display_data"
    }
   ],
   "source": [
    "df['combined'] = df.apply(lambda x:'%s_%s' % (x['Gender'],x['Marital_Status']),axis=1)\n",
    "sns.countplot(df['Age'],hue=df['combined'])"
   ]
  },
  {
   "cell_type": "markdown",
   "metadata": {},
   "source": [
    "#### We can see of the age group 26-35, 64207 males are married while 101135 are not married. So this shows that men are more interested in the sale. There are high number of people in the age group 18-25 and 26-35 out of which we can see that the count of unmarried men is more indicating their interest. "
   ]
  },
  {
   "cell_type": "code",
   "execution_count": 19,
   "metadata": {
    "collapsed": false
   },
   "outputs": [
    {
     "data": {
      "text/plain": [
       "<matplotlib.axes._subplots.AxesSubplot at 0x229629d6908>"
      ]
     },
     "execution_count": 19,
     "metadata": {},
     "output_type": "execute_result"
    },
    {
     "data": {
      "image/png": "[encoded data removed]",
      "text/plain": [
       "<Figure size 432x288 with 1 Axes>"
      ]
     },
     "metadata": {},
     "output_type": "display_data"
    }
   ],
   "source": [
    "sns.countplot(df['Occupation'],hue=df['Gender'])"
   ]
  },
  {
   "cell_type": "markdown",
   "metadata": {},
   "source": [
    "#### We can see that most of the people belong to occupation codes 0,4,7 and 17. So people belonging to such occupations can be targetted for the sale."
   ]
  },
  {
   "cell_type": "code",
   "execution_count": 20,
   "metadata": {
    "collapsed": false
   },
   "outputs": [
    {
     "data": {
      "text/plain": [
       "<matplotlib.axes._subplots.AxesSubplot at 0x22962a67d30>"
      ]
     },
     "execution_count": 20,
     "metadata": {},
     "output_type": "execute_result"
    },
    {
     "data": {
      "image/png": "[encoded data removed]",
      "text/plain": [
       "<Figure size 432x288 with 1 Axes>"
      ]
     },
     "metadata": {},
     "output_type": "display_data"
    }
   ],
   "source": [
    "sns.countplot(df['Occupation'],hue=df['Product_Category_1'])\n",
    "sns.countplot(df['Occupation'],hue=df['Product_Category_1'])\n",
    "sns.countplot(df['Occupation'],hue=df['Product_Category_1'])"
   ]
  },
  {
   "cell_type": "code",
   "execution_count": 21,
   "metadata": {
    "collapsed": false
   },
   "outputs": [
    {
     "data": {
      "text/plain": [
       "<matplotlib.axes._subplots.AxesSubplot at 0x229649ffbe0>"
      ]
     },
     "execution_count": 21,
     "metadata": {},
     "output_type": "execute_result"
    },
    {
     "data": {
      "image/png": "[encoded data removed]",
      "text/plain": [
       "<Figure size 432x288 with 1 Axes>"
      ]
     },
     "metadata": {},
     "output_type": "display_data"
    }
   ],
   "source": [
    "sns.countplot(df['Product_Category_1'],hue=df['Gender'])"
   ]
  },
  {
   "cell_type": "markdown",
   "metadata": {},
   "source": [
    "#### We can see that people purchased product ids 1,5 and 8 mostly from Product_Category_1."
   ]
  },
  {
   "cell_type": "code",
   "execution_count": 22,
   "metadata": {
    "collapsed": false
   },
   "outputs": [
    {
     "data": {
      "text/plain": [
       "<matplotlib.axes._subplots.AxesSubplot at 0x229690b12e8>"
      ]
     },
     "execution_count": 22,
     "metadata": {},
     "output_type": "execute_result"
    },
    {
     "data": {
      "image/png": "[encoded data removed]",
      "text/plain": [
       "<Figure size 432x288 with 1 Axes>"
      ]
     },
     "metadata": {},
     "output_type": "display_data"
    }
   ],
   "source": [
    "sns.countplot(df['Product_Category_2'],hue=df['Gender'])"
   ]
  },
  {
   "cell_type": "markdown",
   "metadata": {},
   "source": [
    "#### We can see that not many people buy products from Product_Category_2 since most of them are 0. Only very few buy products with id 8,14,15,16 from this category"
   ]
  },
  {
   "cell_type": "code",
   "execution_count": 23,
   "metadata": {
    "collapsed": false
   },
   "outputs": [
    {
     "data": {
      "text/plain": [
       "<matplotlib.axes._subplots.AxesSubplot at 0x229690352e8>"
      ]
     },
     "execution_count": 23,
     "metadata": {},
     "output_type": "execute_result"
    },
    {
     "data": {
      "image/png": "[encoded data removed]",
      "text/plain": [
       "<Figure size 432x288 with 1 Axes>"
      ]
     },
     "metadata": {},
     "output_type": "display_data"
    }
   ],
   "source": [
    "sns.countplot(df['Product_Category_3'],hue=df['Gender'])"
   ]
  },
  {
   "cell_type": "markdown",
   "metadata": {},
   "source": [
    "#### We can see that very few people buy products from this category. So to increase sales we can focus more on product category 1 and maybe 2"
   ]
  },
  {
   "cell_type": "code",
   "execution_count": 24,
   "metadata": {
    "collapsed": false
   },
   "outputs": [
    {
     "data": {
      "text/plain": [
       "<matplotlib.axes._subplots.AxesSubplot at 0x2296911ccf8>"
      ]
     },
     "execution_count": 24,
     "metadata": {},
     "output_type": "execute_result"
    },
    {
     "data": {
      "image/png": "[encoded data removed]",
      "text/plain": [
       "<Figure size 432x288 with 1 Axes>"
      ]
     },
     "metadata": {},
     "output_type": "display_data"
    }
   ],
   "source": [
    "sns.countplot(df['City_Category'],hue=df['Age'])"
   ]
  },
  {
   "cell_type": "markdown",
   "metadata": {},
   "source": [
    "#### We can see that mostly people interested in this sale belong to B and A cities."
   ]
  },
  {
   "cell_type": "code",
   "execution_count": 25,
   "metadata": {
    "collapsed": false
   },
   "outputs": [
    {
     "data": {
      "text/plain": [
       "Index(['Gender', 'Age', 'Occupation', 'City_Category',\n",
       "       'Stay_In_Current_City_Years', 'Marital_Status', 'Product_Category_1',\n",
       "       'Product_Category_2', 'Product_Category_3', 'Purchase', 'combined'],\n",
       "      dtype='object')"
      ]
     },
     "execution_count": 25,
     "metadata": {},
     "output_type": "execute_result"
    }
   ],
   "source": [
    "df.columns"
   ]
  },
  {
   "cell_type": "code",
   "execution_count": 44,
   "metadata": {
    "collapsed": false
   },
   "outputs": [
    {
     "data": {
      "text/plain": [
       "<matplotlib.axes._subplots.AxesSubplot at 0x24d80d8a3c8>"
      ]
     },
     "execution_count": 44,
     "metadata": {},
     "output_type": "execute_result"
    },
    {
     "data": {
      "image/png": "[encoded data removed]",
      "text/plain": [
       "<Figure size 432x288 with 1 Axes>"
      ]
     },
     "metadata": {},
     "output_type": "display_data"
    }
   ],
   "source": [
    "sns.distplot(df['Purchase'])"
   ]
  },
  {
   "cell_type": "code",
   "execution_count": 47,
   "metadata": {
    "collapsed": false
   },
   "outputs": [],
   "source": [
    "#sns.barplot(df['Stay_In_Current_City_Years'],df['Purchase'])"
   ]
  },
  {
   "cell_type": "code",
   "execution_count": 46,
   "metadata": {
    "collapsed": false
   },
   "outputs": [],
   "source": [
    "#sns.swarmplot(x='City_Category',y='Purchase',data=df)"
   ]
  },
  {
   "cell_type": "markdown",
   "metadata": {},
   "source": [
    "## 3. Model Building"
   ]
  },
  {
   "cell_type": "markdown",
   "metadata": {},
   "source": [
    "### Linear Regression"
   ]
  },
  {
   "cell_type": "code",
   "execution_count": 27,
   "metadata": {
    "collapsed": false
   },
   "outputs": [],
   "source": [
    "#dropping category_3 as it has many missing values\n",
    "df1 = df.copy()\n",
    "df.drop(['combined','Product_Category_3'],axis=1,inplace=True)"
   ]
  },
  {
   "cell_type": "code",
   "execution_count": 28,
   "metadata": {
    "collapsed": false
   },
   "outputs": [
    {
     "data": {
      "text/plain": [
       "Gender                          object\n",
       "Age                             object\n",
       "Occupation                    category\n",
       "City_Category                   object\n",
       "Stay_In_Current_City_Years       int32\n",
       "Marital_Status                category\n",
       "Product_Category_1               int64\n",
       "Product_Category_2               int32\n",
       "Purchase                         int64\n",
       "dtype: object"
      ]
     },
     "execution_count": 28,
     "metadata": {},
     "output_type": "execute_result"
    }
   ],
   "source": [
    "df['Stay_In_Current_City_Years'] = df['Stay_In_Current_City_Years'].astype(int)\n",
    "df['Occupation'] = pd.Categorical(df['Occupation'])\n",
    "df['Marital_Status'] = pd.Categorical(df['Marital_Status'])\n",
    "df.dtypes"
   ]
  },
  {
   "cell_type": "markdown",
   "metadata": {},
   "source": [
    "##### Note: \n",
    "Product_Category doesnt represent number of items, it represents a particular product subcategory in the given product  category 1,2,3. It is important to think of these as categorical values instead of continous "
   ]
  },
  {
   "cell_type": "code",
   "execution_count": 29,
   "metadata": {
    "collapsed": false
   },
   "outputs": [
    {
     "data": {
      "text/plain": [
       "Index(['Stay_In_Current_City_Years', 'Purchase', 'Gender_M', 'Age_18-25',\n",
       "       'Age_26-35', 'Age_36-45', 'Age_46-50', 'Age_51-55', 'Age_55+',\n",
       "       'Occupation_1', 'Occupation_2', 'Occupation_3', 'Occupation_4',\n",
       "       'Occupation_5', 'Occupation_6', 'Occupation_7', 'Occupation_8',\n",
       "       'Occupation_9', 'Occupation_10', 'Occupation_11', 'Occupation_12',\n",
       "       'Occupation_13', 'Occupation_14', 'Occupation_15', 'Occupation_16',\n",
       "       'Occupation_17', 'Occupation_18', 'Occupation_19', 'Occupation_20',\n",
       "       'City_Category_B', 'City_Category_C', 'Marital_Status_Not Married',\n",
       "       'Product_Category_1_2', 'Product_Category_1_3', 'Product_Category_1_4',\n",
       "       'Product_Category_1_5', 'Product_Category_1_6', 'Product_Category_1_7',\n",
       "       'Product_Category_1_8', 'Product_Category_1_9', 'Product_Category_1_10',\n",
       "       'Product_Category_1_11', 'Product_Category_1_12',\n",
       "       'Product_Category_1_13', 'Product_Category_1_14',\n",
       "       'Product_Category_1_15', 'Product_Category_1_16',\n",
       "       'Product_Category_1_17', 'Product_Category_1_18',\n",
       "       'Product_Category_2_2', 'Product_Category_2_3', 'Product_Category_2_4',\n",
       "       'Product_Category_2_5', 'Product_Category_2_6', 'Product_Category_2_7',\n",
       "       'Product_Category_2_8', 'Product_Category_2_9', 'Product_Category_2_10',\n",
       "       'Product_Category_2_11', 'Product_Category_2_12',\n",
       "       'Product_Category_2_13', 'Product_Category_2_14',\n",
       "       'Product_Category_2_15', 'Product_Category_2_16',\n",
       "       'Product_Category_2_17', 'Product_Category_2_18'],\n",
       "      dtype='object')"
      ]
     },
     "execution_count": 29,
     "metadata": {},
     "output_type": "execute_result"
    }
   ],
   "source": [
    "### ONE HOT ENCODING for categorical Variables\n",
    "df_dummy = pd.get_dummies(df,drop_first=True,prefix_sep='_',columns=['Gender','Age','Occupation','City_Category','Marital_Status','Product_Category_1','Product_Category_2'])\n",
    "df_dummy.columns"
   ]
  },
  {
   "cell_type": "code",
   "execution_count": 30,
   "metadata": {
    "collapsed": false
   },
   "outputs": [
    {
     "data": {
      "text/plain": [
       "(537577, 66)"
      ]
     },
     "execution_count": 30,
     "metadata": {},
     "output_type": "execute_result"
    }
   ],
   "source": [
    "df_dummy.shape"
   ]
  },
  {
   "cell_type": "markdown",
   "metadata": {},
   "source": [
    "Not checking correlation or scaling values as most of the columns are categorical in nature"
   ]
  },
  {
   "cell_type": "code",
   "execution_count": 31,
   "metadata": {
    "collapsed": true
   },
   "outputs": [],
   "source": [
    "from sklearn.linear_model import LinearRegression\n",
    "from sklearn.metrics import mean_squared_error, r2_score\n",
    "from sklearn.model_selection import train_test_split\n",
    "\n",
    "X_dummy = df_dummy.loc[:,~df_dummy.columns.isin(['Purchase'])]\n",
    "y = df_dummy.loc[:,'Purchase']\n",
    "X_train, X_test, y_train, y_test = train_test_split(X_dummy, y, test_size=0.3, random_state=0)"
   ]
  },
  {
   "cell_type": "code",
   "execution_count": 32,
   "metadata": {
    "collapsed": false
   },
   "outputs": [
    {
     "name": "stdout",
     "output_type": "stream",
     "text": [
      "Root mean squared error on Training Set 3020.4265656020066\n",
      "R2 score on Training Set:  0.6323418392245711\n",
      "Root mean squared error on Testing Set 2996.874892176096\n",
      "R2 score on Testing Set:  0.6378968509225831\n"
     ]
    }
   ],
   "source": [
    "linear_model = LinearRegression()\n",
    "linear_model.fit(X_train,y_train)\n",
    "y_pred_linear = linear_model.predict(X_test)\n",
    "y_train_predict = linear_model.predict(X_train)\n",
    "\n",
    "rmse_train = np.sqrt(mean_squared_error(y_train,y_train_predict))\n",
    "r2_train = r2_score(y_train,y_train_predict)\n",
    "\n",
    "rmse = np.sqrt(mean_squared_error(y_test,y_pred_linear))\n",
    "r2 = r2_score(y_test,y_pred_linear)\n",
    "\n",
    "print('Root mean squared error on Training Set', rmse_train)\n",
    "print('R2 score on Training Set: ', r2_train)\n",
    "\n",
    "print('Root mean squared error on Testing Set', rmse)\n",
    "print('R2 score on Testing Set: ', r2)"
   ]
  },
  {
   "cell_type": "code",
   "execution_count": 33,
   "metadata": {
    "collapsed": false
   },
   "outputs": [
    {
     "name": "stdout",
     "output_type": "stream",
     "text": [
      "Slope: [ 8.89735072e+00 -5.82264913e+01 -1.82043966e+02 -8.55505509e+01\n",
      "  3.79679473e+01  5.32669149e+01  2.96283426e+02  1.87639595e+02\n",
      " -4.67265322e+01  3.98075584e+01  2.05581000e+02  1.56111134e+02\n",
      "  3.27425694e+01  1.81224647e+02  1.03475245e+02 -3.13951076e+02\n",
      "  1.13075079e+02 -6.13838873e+01  8.96451226e+01  2.45106789e+02\n",
      "  6.61921262e+01  1.93799779e+02  3.49204999e+02  1.05853820e+02\n",
      "  1.91724600e+02 -8.13200451e+00 -3.55821997e+02 -9.99330869e+01\n",
      "  1.36240926e+02  5.52525132e+02  5.48262618e+01 -1.80969145e+03\n",
      " -2.40400658e+03 -1.09422167e+04 -7.38076315e+03  1.83674372e+03\n",
      "  2.87793817e+03 -6.06891760e+03  1.79707002e+03  6.15312642e+03\n",
      " -8.80285496e+03 -1.22517365e+04 -1.28488674e+04 -4.59952671e+02\n",
      "  1.14591446e+03  1.18989254e+03 -3.33906299e+03 -1.05928706e+04\n",
      "  7.59317301e+01 -5.73529987e+02 -1.17291989e+03 -4.26047931e+02\n",
      "  5.14195230e+02  6.76888823e+02  4.86287464e+02 -1.52997339e+02\n",
      "  1.24272723e+03 -3.63209699e+02 -2.86700602e+02 -1.56161631e+02\n",
      " -1.74705665e+01 -1.05502574e+02  7.01361908e+01  5.64981742e+02\n",
      "  6.15585716e+02]\n",
      "Intercept: 13237.148596469622\n"
     ]
    }
   ],
   "source": [
    "print('Slope:' ,linear_model.coef_)\n",
    "print('Intercept:', linear_model.intercept_)"
   ]
  },
  {
   "cell_type": "markdown",
   "metadata": {},
   "source": [
    "## LASSO "
   ]
  },
  {
   "cell_type": "code",
   "execution_count": 38,
   "metadata": {
    "collapsed": false
   },
   "outputs": [
    {
     "name": "stdout",
     "output_type": "stream",
     "text": [
      "Root mean squared error on Testing Set 2996.874892176096\n",
      "R2 score on Testing Set:  0.6378968509225831\n"
     ]
    }
   ],
   "source": [
    "from sklearn.linear_model import Lasso\n",
    "lasso_reg = Lasso(normalize=True,alpha=1.0,random_state=0)\n",
    "lasso_reg.fit(X_train,y_train)\n",
    "y_pred_lasso = linear_model.predict(X_test)\n",
    "\n",
    "rmse = np.sqrt(mean_squared_error(y_test,y_pred_lasso))\n",
    "r2 = r2_score(y_test,y_pred_lasso)\n",
    "\n",
    "print('Root mean squared error on Testing Set', rmse)\n",
    "print('R2 score on Testing Set: ', r2)"
   ]
  },
  {
   "cell_type": "markdown",
   "metadata": {},
   "source": [
    "## RIDGE"
   ]
  },
  {
   "cell_type": "code",
   "execution_count": 39,
   "metadata": {
    "collapsed": false
   },
   "outputs": [
    {
     "name": "stdout",
     "output_type": "stream",
     "text": [
      "Root mean squared error on Testing Set 2996.874892176096\n",
      "R2 score on Testing Set:  0.6378968509225831\n"
     ]
    }
   ],
   "source": [
    "from sklearn.linear_model import Ridge\n",
    "ridge_reg = Ridge(normalize=True,random_state=0)\n",
    "ridge_reg.fit(X_train,y_train)\n",
    "y_pred_ridge = linear_model.predict(X_test)\n",
    "\n",
    "rmse = np.sqrt(mean_squared_error(y_test,y_pred_ridge))\n",
    "r2 = r2_score(y_test,y_pred_ridge)\n",
    "\n",
    "print('Root mean squared error on Testing Set', rmse)\n",
    "print('R2 score on Testing Set: ', r2)"
   ]
  },
  {
   "cell_type": "markdown",
   "metadata": {},
   "source": [
    "## Ordinary Least Squares (OLS)"
   ]
  },
  {
   "cell_type": "code",
   "execution_count": 36,
   "metadata": {
    "collapsed": false
   },
   "outputs": [
    {
     "data": {
      "text/html": [
       "<table class=\"simpletable\">\n",
       "<caption>OLS Regression Results</caption>\n",
       "<tr>\n",
       "  <th>Dep. Variable:</th>        <td>Purchase</td>     <th>  R-squared:         </th>  <td>   0.632</td>  \n",
       "</tr>\n",
       "<tr>\n",
       "  <th>Model:</th>                   <td>OLS</td>       <th>  Adj. R-squared:    </th>  <td>   0.632</td>  \n",
       "</tr>\n",
       "<tr>\n",
       "  <th>Method:</th>             <td>Least Squares</td>  <th>  F-statistic:       </th>  <td>   9955.</td>  \n",
       "</tr>\n",
       "<tr>\n",
       "  <th>Date:</th>             <td>Fri, 08 Mar 2019</td> <th>  Prob (F-statistic):</th>   <td>  0.00</td>   \n",
       "</tr>\n",
       "<tr>\n",
       "  <th>Time:</th>                 <td>12:55:35</td>     <th>  Log-Likelihood:    </th> <td>-3.5493e+06</td>\n",
       "</tr>\n",
       "<tr>\n",
       "  <th>No. Observations:</th>      <td>376303</td>      <th>  AIC:               </th>  <td>7.099e+06</td> \n",
       "</tr>\n",
       "<tr>\n",
       "  <th>Df Residuals:</th>          <td>376237</td>      <th>  BIC:               </th>  <td>7.099e+06</td> \n",
       "</tr>\n",
       "<tr>\n",
       "  <th>Df Model:</th>              <td>    65</td>      <th>                     </th>      <td> </td>     \n",
       "</tr>\n",
       "<tr>\n",
       "  <th>Covariance Type:</th>      <td>nonrobust</td>    <th>                     </th>      <td> </td>     \n",
       "</tr>\n",
       "</table>\n",
       "<table class=\"simpletable\">\n",
       "<tr>\n",
       "               <td></td>                 <th>coef</th>     <th>std err</th>      <th>t</th>      <th>P>|t|</th>  <th>[0.025</th>    <th>0.975]</th>  \n",
       "</tr>\n",
       "<tr>\n",
       "  <th>Stay_In_Current_City_Years</th> <td>    8.8974</td> <td>    3.836</td> <td>    2.320</td> <td> 0.020</td> <td>    1.380</td> <td>   16.415</td>\n",
       "</tr>\n",
       "<tr>\n",
       "  <th>Gender_M</th>                   <td>  -58.2265</td> <td>   12.030</td> <td>   -4.840</td> <td> 0.000</td> <td>  -81.805</td> <td>  -34.648</td>\n",
       "</tr>\n",
       "<tr>\n",
       "  <th>Age_18-25</th>                  <td> -182.0440</td> <td>   49.449</td> <td>   -3.681</td> <td> 0.000</td> <td> -278.962</td> <td>  -85.126</td>\n",
       "</tr>\n",
       "<tr>\n",
       "  <th>Age_26-35</th>                  <td>  -85.5506</td> <td>   49.305</td> <td>   -1.735</td> <td> 0.083</td> <td> -182.186</td> <td>   11.085</td>\n",
       "</tr>\n",
       "<tr>\n",
       "  <th>Age_36-45</th>                  <td>   37.9679</td> <td>   50.020</td> <td>    0.759</td> <td> 0.448</td> <td>  -60.069</td> <td>  136.005</td>\n",
       "</tr>\n",
       "<tr>\n",
       "  <th>Age_46-50</th>                  <td>   53.2669</td> <td>   52.229</td> <td>    1.020</td> <td> 0.308</td> <td>  -49.100</td> <td>  155.634</td>\n",
       "</tr>\n",
       "<tr>\n",
       "  <th>Age_51-55</th>                  <td>  296.2834</td> <td>   52.822</td> <td>    5.609</td> <td> 0.000</td> <td>  192.754</td> <td>  399.813</td>\n",
       "</tr>\n",
       "<tr>\n",
       "  <th>Age_55+</th>                    <td>  187.6396</td> <td>   56.010</td> <td>    3.350</td> <td> 0.001</td> <td>   77.862</td> <td>  297.417</td>\n",
       "</tr>\n",
       "<tr>\n",
       "  <th>Occupation_1</th>               <td>  -46.7265</td> <td>   22.003</td> <td>   -2.124</td> <td> 0.034</td> <td>  -89.852</td> <td>   -3.601</td>\n",
       "</tr>\n",
       "<tr>\n",
       "  <th>Occupation_2</th>               <td>   39.8076</td> <td>   26.392</td> <td>    1.508</td> <td> 0.131</td> <td>  -11.920</td> <td>   91.535</td>\n",
       "</tr>\n",
       "<tr>\n",
       "  <th>Occupation_3</th>               <td>  205.5810</td> <td>   30.869</td> <td>    6.660</td> <td> 0.000</td> <td>  145.079</td> <td>  266.083</td>\n",
       "</tr>\n",
       "<tr>\n",
       "  <th>Occupation_4</th>               <td>  156.1111</td> <td>   21.033</td> <td>    7.422</td> <td> 0.000</td> <td>  114.887</td> <td>  197.335</td>\n",
       "</tr>\n",
       "<tr>\n",
       "  <th>Occupation_5</th>               <td>   32.7426</td> <td>   36.018</td> <td>    0.909</td> <td> 0.363</td> <td>  -37.852</td> <td>  103.337</td>\n",
       "</tr>\n",
       "<tr>\n",
       "  <th>Occupation_6</th>               <td>  181.2246</td> <td>   29.463</td> <td>    6.151</td> <td> 0.000</td> <td>  123.479</td> <td>  238.970</td>\n",
       "</tr>\n",
       "<tr>\n",
       "  <th>Occupation_7</th>               <td>  103.4752</td> <td>   20.680</td> <td>    5.004</td> <td> 0.000</td> <td>   62.944</td> <td>  144.007</td>\n",
       "</tr>\n",
       "<tr>\n",
       "  <th>Occupation_8</th>               <td> -313.9511</td> <td>   94.883</td> <td>   -3.309</td> <td> 0.001</td> <td> -499.919</td> <td> -127.983</td>\n",
       "</tr>\n",
       "<tr>\n",
       "  <th>Occupation_9</th>               <td>  113.0751</td> <td>   48.895</td> <td>    2.313</td> <td> 0.021</td> <td>   17.242</td> <td>  208.909</td>\n",
       "</tr>\n",
       "<tr>\n",
       "  <th>Occupation_10</th>              <td>  -61.3839</td> <td>   53.000</td> <td>   -1.158</td> <td> 0.247</td> <td> -165.262</td> <td>   42.494</td>\n",
       "</tr>\n",
       "<tr>\n",
       "  <th>Occupation_11</th>              <td>   89.6451</td> <td>   36.559</td> <td>    2.452</td> <td> 0.014</td> <td>   17.990</td> <td>  161.300</td>\n",
       "</tr>\n",
       "<tr>\n",
       "  <th>Occupation_12</th>              <td>  245.1068</td> <td>   25.038</td> <td>    9.789</td> <td> 0.000</td> <td>  196.033</td> <td>  294.180</td>\n",
       "</tr>\n",
       "<tr>\n",
       "  <th>Occupation_13</th>              <td>   66.1921</td> <td>   47.256</td> <td>    1.401</td> <td> 0.161</td> <td>  -26.427</td> <td>  158.812</td>\n",
       "</tr>\n",
       "<tr>\n",
       "  <th>Occupation_14</th>              <td>  193.7998</td> <td>   26.146</td> <td>    7.412</td> <td> 0.000</td> <td>  142.555</td> <td>  245.044</td>\n",
       "</tr>\n",
       "<tr>\n",
       "  <th>Occupation_15</th>              <td>  349.2050</td> <td>   36.131</td> <td>    9.665</td> <td> 0.000</td> <td>  278.389</td> <td>  420.021</td>\n",
       "</tr>\n",
       "<tr>\n",
       "  <th>Occupation_16</th>              <td>  105.8538</td> <td>   27.115</td> <td>    3.904</td> <td> 0.000</td> <td>   52.708</td> <td>  158.999</td>\n",
       "</tr>\n",
       "<tr>\n",
       "  <th>Occupation_17</th>              <td>  191.7246</td> <td>   23.172</td> <td>    8.274</td> <td> 0.000</td> <td>  146.308</td> <td>  237.141</td>\n",
       "</tr>\n",
       "<tr>\n",
       "  <th>Occupation_18</th>              <td>   -8.1320</td> <td>   47.004</td> <td>   -0.173</td> <td> 0.863</td> <td> -100.258</td> <td>   83.994</td>\n",
       "</tr>\n",
       "<tr>\n",
       "  <th>Occupation_19</th>              <td> -355.8220</td> <td>   42.194</td> <td>   -8.433</td> <td> 0.000</td> <td> -438.520</td> <td> -273.124</td>\n",
       "</tr>\n",
       "<tr>\n",
       "  <th>Occupation_20</th>              <td>  -99.9331</td> <td>   24.446</td> <td>   -4.088</td> <td> 0.000</td> <td> -147.846</td> <td>  -52.020</td>\n",
       "</tr>\n",
       "<tr>\n",
       "  <th>City_Category_B</th>            <td>  136.2409</td> <td>   12.300</td> <td>   11.077</td> <td> 0.000</td> <td>  112.134</td> <td>  160.348</td>\n",
       "</tr>\n",
       "<tr>\n",
       "  <th>City_Category_C</th>            <td>  552.5251</td> <td>   13.342</td> <td>   41.411</td> <td> 0.000</td> <td>  526.374</td> <td>  578.676</td>\n",
       "</tr>\n",
       "<tr>\n",
       "  <th>Marital_Status_Not Married</th> <td>   54.8263</td> <td>   10.712</td> <td>    5.118</td> <td> 0.000</td> <td>   33.830</td> <td>   75.822</td>\n",
       "</tr>\n",
       "<tr>\n",
       "  <th>Product_Category_1_2</th>       <td>-1809.6914</td> <td>   32.787</td> <td>  -55.195</td> <td> 0.000</td> <td>-1873.953</td> <td>-1745.430</td>\n",
       "</tr>\n",
       "<tr>\n",
       "  <th>Product_Category_1_3</th>       <td>-2404.0066</td> <td>   44.743</td> <td>  -53.729</td> <td> 0.000</td> <td>-2491.702</td> <td>-2316.311</td>\n",
       "</tr>\n",
       "<tr>\n",
       "  <th>Product_Category_1_4</th>       <td>-1.094e+04</td> <td>   40.093</td> <td> -272.918</td> <td> 0.000</td> <td> -1.1e+04</td> <td>-1.09e+04</td>\n",
       "</tr>\n",
       "<tr>\n",
       "  <th>Product_Category_1_5</th>       <td>-7380.7631</td> <td>   17.476</td> <td> -422.331</td> <td> 0.000</td> <td>-7415.016</td> <td>-7346.510</td>\n",
       "</tr>\n",
       "<tr>\n",
       "  <th>Product_Category_1_6</th>       <td> 1836.7437</td> <td>   31.206</td> <td>   58.859</td> <td> 0.000</td> <td> 1775.582</td> <td> 1897.906</td>\n",
       "</tr>\n",
       "<tr>\n",
       "  <th>Product_Category_1_7</th>       <td> 2877.9382</td> <td>   62.559</td> <td>   46.004</td> <td> 0.000</td> <td> 2755.325</td> <td> 3000.552</td>\n",
       "</tr>\n",
       "<tr>\n",
       "  <th>Product_Category_1_8</th>       <td>-6068.9176</td> <td>   19.122</td> <td> -317.383</td> <td> 0.000</td> <td>-6106.396</td> <td>-6031.440</td>\n",
       "</tr>\n",
       "<tr>\n",
       "  <th>Product_Category_1_9</th>       <td> 1797.0700</td> <td>  178.881</td> <td>   10.046</td> <td> 0.000</td> <td> 1446.469</td> <td> 2147.672</td>\n",
       "</tr>\n",
       "<tr>\n",
       "  <th>Product_Category_1_10</th>      <td> 6153.1264</td> <td>   54.996</td> <td>  111.884</td> <td> 0.000</td> <td> 6045.336</td> <td> 6260.916</td>\n",
       "</tr>\n",
       "<tr>\n",
       "  <th>Product_Category_1_11</th>      <td>-8802.8550</td> <td>   27.561</td> <td> -319.400</td> <td> 0.000</td> <td>-8856.873</td> <td>-8748.837</td>\n",
       "</tr>\n",
       "<tr>\n",
       "  <th>Product_Category_1_12</th>      <td>-1.225e+04</td> <td>   60.541</td> <td> -202.373</td> <td> 0.000</td> <td>-1.24e+04</td> <td>-1.21e+04</td>\n",
       "</tr>\n",
       "<tr>\n",
       "  <th>Product_Category_1_13</th>      <td>-1.285e+04</td> <td>   51.627</td> <td> -248.880</td> <td> 0.000</td> <td> -1.3e+04</td> <td>-1.27e+04</td>\n",
       "</tr>\n",
       "<tr>\n",
       "  <th>Product_Category_1_14</th>      <td> -459.9527</td> <td>   93.358</td> <td>   -4.927</td> <td> 0.000</td> <td> -642.932</td> <td> -276.973</td>\n",
       "</tr>\n",
       "<tr>\n",
       "  <th>Product_Category_1_15</th>      <td> 1145.9145</td> <td>   48.461</td> <td>   23.646</td> <td> 0.000</td> <td> 1050.933</td> <td> 1240.896</td>\n",
       "</tr>\n",
       "<tr>\n",
       "  <th>Product_Category_1_16</th>      <td> 1189.8925</td> <td>   41.000</td> <td>   29.022</td> <td> 0.000</td> <td> 1109.533</td> <td> 1270.252</td>\n",
       "</tr>\n",
       "<tr>\n",
       "  <th>Product_Category_1_17</th>      <td>-3339.0630</td> <td>  153.889</td> <td>  -21.698</td> <td> 0.000</td> <td>-3640.681</td> <td>-3037.445</td>\n",
       "</tr>\n",
       "<tr>\n",
       "  <th>Product_Category_1_18</th>      <td>-1.059e+04</td> <td>   67.596</td> <td> -156.708</td> <td> 0.000</td> <td>-1.07e+04</td> <td>-1.05e+04</td>\n",
       "</tr>\n",
       "<tr>\n",
       "  <th>Product_Category_2_2</th>       <td>   75.9317</td> <td>   24.343</td> <td>    3.119</td> <td> 0.002</td> <td>   28.219</td> <td>  123.644</td>\n",
       "</tr>\n",
       "<tr>\n",
       "  <th>Product_Category_2_3</th>       <td> -573.5300</td> <td>   75.389</td> <td>   -7.608</td> <td> 0.000</td> <td> -721.289</td> <td> -425.771</td>\n",
       "</tr>\n",
       "<tr>\n",
       "  <th>Product_Category_2_4</th>       <td>-1172.9199</td> <td>   43.260</td> <td>  -27.113</td> <td> 0.000</td> <td>-1257.708</td> <td>-1088.132</td>\n",
       "</tr>\n",
       "<tr>\n",
       "  <th>Product_Category_2_5</th>       <td> -426.0479</td> <td>   31.368</td> <td>  -13.582</td> <td> 0.000</td> <td> -487.528</td> <td> -364.567</td>\n",
       "</tr>\n",
       "<tr>\n",
       "  <th>Product_Category_2_6</th>       <td>  514.1952</td> <td>   31.541</td> <td>   16.302</td> <td> 0.000</td> <td>  452.376</td> <td>  576.015</td>\n",
       "</tr>\n",
       "<tr>\n",
       "  <th>Product_Category_2_7</th>       <td>  676.8888</td> <td>  148.434</td> <td>    4.560</td> <td> 0.000</td> <td>  385.963</td> <td>  967.814</td>\n",
       "</tr>\n",
       "<tr>\n",
       "  <th>Product_Category_2_8</th>       <td>  486.2875</td> <td>   19.344</td> <td>   25.139</td> <td> 0.000</td> <td>  448.373</td> <td>  524.201</td>\n",
       "</tr>\n",
       "<tr>\n",
       "  <th>Product_Category_2_9</th>       <td> -152.9973</td> <td>   50.033</td> <td>   -3.058</td> <td> 0.002</td> <td> -251.060</td> <td>  -54.934</td>\n",
       "</tr>\n",
       "<tr>\n",
       "  <th>Product_Category_2_10</th>      <td> 1242.7272</td> <td>   71.116</td> <td>   17.475</td> <td> 0.000</td> <td> 1103.343</td> <td> 1382.112</td>\n",
       "</tr>\n",
       "<tr>\n",
       "  <th>Product_Category_2_11</th>      <td> -363.2097</td> <td>   32.656</td> <td>  -11.122</td> <td> 0.000</td> <td> -427.214</td> <td> -299.205</td>\n",
       "</tr>\n",
       "<tr>\n",
       "  <th>Product_Category_2_12</th>      <td> -286.7006</td> <td>   50.160</td> <td>   -5.716</td> <td> 0.000</td> <td> -385.013</td> <td> -188.388</td>\n",
       "</tr>\n",
       "<tr>\n",
       "  <th>Product_Category_2_13</th>      <td> -156.1616</td> <td>   38.053</td> <td>   -4.104</td> <td> 0.000</td> <td> -230.744</td> <td>  -81.579</td>\n",
       "</tr>\n",
       "<tr>\n",
       "  <th>Product_Category_2_14</th>      <td>  -17.4706</td> <td>   18.296</td> <td>   -0.955</td> <td> 0.340</td> <td>  -53.331</td> <td>   18.390</td>\n",
       "</tr>\n",
       "<tr>\n",
       "  <th>Product_Category_2_15</th>      <td> -105.5026</td> <td>   22.772</td> <td>   -4.633</td> <td> 0.000</td> <td> -150.135</td> <td>  -60.870</td>\n",
       "</tr>\n",
       "<tr>\n",
       "  <th>Product_Category_2_16</th>      <td>   70.1362</td> <td>   21.586</td> <td>    3.249</td> <td> 0.001</td> <td>   27.828</td> <td>  112.444</td>\n",
       "</tr>\n",
       "<tr>\n",
       "  <th>Product_Category_2_17</th>      <td>  564.9817</td> <td>   33.156</td> <td>   17.040</td> <td> 0.000</td> <td>  499.996</td> <td>  629.967</td>\n",
       "</tr>\n",
       "<tr>\n",
       "  <th>Product_Category_2_18</th>      <td>  615.5857</td> <td>   69.485</td> <td>    8.859</td> <td> 0.000</td> <td>  479.397</td> <td>  751.775</td>\n",
       "</tr>\n",
       "<tr>\n",
       "  <th>intercept</th>                  <td> 1.324e+04</td> <td>   55.094</td> <td>  240.266</td> <td> 0.000</td> <td> 1.31e+04</td> <td> 1.33e+04</td>\n",
       "</tr>\n",
       "</table>\n",
       "<table class=\"simpletable\">\n",
       "<tr>\n",
       "  <th>Omnibus:</th>       <td>29789.920</td> <th>  Durbin-Watson:     </th> <td>   1.998</td> \n",
       "</tr>\n",
       "<tr>\n",
       "  <th>Prob(Omnibus):</th>  <td> 0.000</td>   <th>  Jarque-Bera (JB):  </th> <td>45888.636</td>\n",
       "</tr>\n",
       "<tr>\n",
       "  <th>Skew:</th>           <td>-0.625</td>   <th>  Prob(JB):          </th> <td>    0.00</td> \n",
       "</tr>\n",
       "<tr>\n",
       "  <th>Kurtosis:</th>       <td> 4.168</td>   <th>  Cond. No.          </th> <td>    97.7</td> \n",
       "</tr>\n",
       "</table><br/><br/>Warnings:<br/>[1] Standard Errors assume that the covariance matrix of the errors is correctly specified."
      ],
      "text/plain": [
       "<IPython.core.display.HTML object>"
      ]
     },
     "execution_count": 36,
     "metadata": {},
     "output_type": "execute_result"
    }
   ],
   "source": [
    "import statsmodels.api as sm\n",
    "import statsmodels.formula.api as sm \n",
    "from statsmodels.formula.api import ols\n",
    "from IPython.display import HTML, display\n",
    "\n",
    "X= X_dummy.copy()\n",
    "X['intercept'] = np.ones((X.shape[0],),dtype=int) #Adding an intercept column of value 1 - constant (Beta -0)\n",
    "\n",
    "X_train1, X_test1, y_train1, y_test1 = train_test_split(X, y, test_size=0.3, random_state=0)\n",
    "\n",
    "ols_model = sm.OLS(y_train1,X_train1).fit()\n",
    "ols_model_summary = ols_model.summary()\n",
    "HTML(ols_model_summary.as_html())"
   ]
  },
  {
   "cell_type": "markdown",
   "metadata": {},
   "source": [
    "#### We can see that almost all the variables have a low p-value indicating all are significantly important and the adjusted R-squared is also the same as R-squared so we dont have redundant features "
   ]
  },
  {
   "cell_type": "code",
   "execution_count": 37,
   "metadata": {
    "collapsed": false
   },
   "outputs": [
    {
     "name": "stdout",
     "output_type": "stream",
     "text": [
      "Root mean squared error on Testing Set 2996.874892176096\n",
      "R2 score on Testing Set:  0.6378968509225831\n"
     ]
    }
   ],
   "source": [
    "pred_ols = ols_model.predict(X_test1)\n",
    "rmse = np.sqrt(mean_squared_error(y_test1,pred_ols))\n",
    "r2 = r2_score(y_test1,pred_ols)\n",
    "\n",
    "print('Root mean squared error on Testing Set', rmse)\n",
    "print('R2 score on Testing Set: ', r2)"
   ]
  },
  {
   "cell_type": "markdown",
   "metadata": {},
   "source": [
    "## Gradient Boosting Regressor"
   ]
  },
  {
   "cell_type": "markdown",
   "metadata": {},
   "source": [
    "1. Without Tuning"
   ]
  },
  {
   "cell_type": "code",
   "execution_count": 40,
   "metadata": {
    "collapsed": false
   },
   "outputs": [
    {
     "name": "stdout",
     "output_type": "stream",
     "text": [
      "Root mean squared error on Testing Set 3035.6119513750787\n",
      "R2 score on Testing Set:  0.6284753931486078\n"
     ]
    }
   ],
   "source": [
    "from sklearn.ensemble import GradientBoostingRegressor\n",
    "\n",
    "# Create the model\n",
    "gradient_boosted = GradientBoostingRegressor()\n",
    "gradient_boosted.fit(X_train,y_train)\n",
    "\n",
    "# Make predictions on the test data\n",
    "y_pred_gbr = gradient_boosted.predict(X_test)\n",
    "\n",
    "rmse = np.sqrt(mean_squared_error(y_test,y_pred_gbr))\n",
    "r2 = r2_score(y_test,y_pred_gbr)\n",
    "\n",
    "print('Root mean squared error on Testing Set', rmse)\n",
    "print('R2 score on Testing Set: ', r2)"
   ]
  },
  {
   "cell_type": "markdown",
   "metadata": {},
   "source": [
    "2. With Tuning"
   ]
  },
  {
   "cell_type": "code",
   "execution_count": 43,
   "metadata": {
    "collapsed": false
   },
   "outputs": [
    {
     "name": "stdout",
     "output_type": "stream",
     "text": [
      "Start of GBR  2019-03-08 14:07:32.679673\n",
      "End of GBR  2019-03-08 14:20:05.815335\n",
      "Root mean squared error on Testing Set 2913.6329640428835\n",
      "R2 score on Testing Set:  0.6577332120167\n"
     ]
    }
   ],
   "source": [
    "from sklearn.ensemble import GradientBoostingRegressor\n",
    "import datetime\n",
    "print(\"Start of GBR \",datetime.datetime.now())\n",
    "gbr_reg = GradientBoostingRegressor(learning_rate=0.2,max_features=8,random_state=7,max_depth=9,min_samples_split=2000,n_estimators=800,alpha=0.8)\n",
    "gbr_reg.fit(X_train,y_train)\n",
    "\n",
    "# Make predictions on the test data\n",
    "y_pred_gbr = gbr_reg.predict(X_test)\n",
    "print(\"End of GBR \",datetime.datetime.now())\n",
    "rmse = np.sqrt(mean_squared_error(y_test,y_pred_gbr))\n",
    "r2 = r2_score(y_test,y_pred_gbr)\n",
    "\n",
    "print('Root mean squared error on Testing Set', rmse)\n",
    "print('R2 score on Testing Set: ', r2)"
   ]
  },
  {
   "cell_type": "markdown",
   "metadata": {},
   "source": [
    "## XGBoost"
   ]
  },
  {
   "cell_type": "code",
   "execution_count": 48,
   "metadata": {
    "collapsed": false
   },
   "outputs": [
    {
     "name": "stdout",
     "output_type": "stream",
     "text": [
      "Start of XGBR  2019-03-08 16:58:22.856840\n",
      "End of XGBR  2019-03-08 17:08:31.085998\n",
      "Root mean squared error on Testing Set 2906.3289528318746\n",
      "R2 score on Testing Set:  0.6594470771721898\n"
     ]
    }
   ],
   "source": [
    "from xgboost import XGBRegressor\n",
    "print(\"Start of XGBR \",datetime.datetime.now())\n",
    "xgbr = XGBRegressor(eta=0.2,max_depth=9,random_state=7,n_estimators=200,subsample=0.8,learning_rate=0.1,gamma=0)\n",
    "xgbr.fit(X_train,y_train)\n",
    "y_pred_xgbr = xgbr.predict(X_test)\n",
    "print(\"End of XGBR \",datetime.datetime.now())\n",
    "rmse = np.sqrt(mean_squared_error(y_test,y_pred_xgbr))\n",
    "r2 = r2_score(y_test,y_pred_xgbr)\n",
    "\n",
    "print('Root mean squared error on Testing Set', rmse)\n",
    "print('R2 score on Testing Set: ', r2)"
   ]
  },
  {
   "cell_type": "code",
   "execution_count": 47,
   "metadata": {
    "collapsed": false
   },
   "outputs": [
    {
     "name": "stdout",
     "output_type": "stream",
     "text": [
      "Start of XGBR  2019-03-08 15:41:24.090454\n",
      "End of XGBR  2019-03-08 15:54:24.675079\n",
      "Root mean squared error on Testing Set 2903.4582076980137\n",
      "R2 score on Testing Set:  0.6601195115913265\n"
     ]
    }
   ],
   "source": [
    "from xgboost import XGBRegressor\n",
    "print(\"Start of XGBR \",datetime.datetime.now())\n",
    "xgbr = XGBRegressor(eta=0.2,max_depth=9,random_state=7,n_estimators=300,subsample=0.8,learning_rate=0.1,gamma=0)\n",
    "xgbr.fit(X_train,y_train)\n",
    "y_pred_xgbr = xgbr.predict(X_test)\n",
    "print(\"End of XGBR \",datetime.datetime.now())\n",
    "rmse = np.sqrt(mean_squared_error(y_test,y_pred_xgbr))\n",
    "r2 = r2_score(y_test,y_pred_xgbr)\n",
    "\n",
    "print('Root mean squared error on Testing Set', rmse)\n",
    "print('R2 score on Testing Set: ', r2)"
   ]
  },
  {
   "cell_type": "code",
   "execution_count": 45,
   "metadata": {
    "collapsed": false
   },
   "outputs": [
    {
     "name": "stdout",
     "output_type": "stream",
     "text": [
      "Start of XGBR  2019-03-08 15:12:49.136776\n",
      "End of XGBR  2019-03-08 15:39:32.702748\n",
      "Root mean squared error on Testing Set 2911.256582903868\n",
      "R2 score on Testing Set:  0.6582912951106994\n"
     ]
    }
   ],
   "source": [
    "from xgboost import XGBRegressor\n",
    "print(\"Start of XGBR \",datetime.datetime.now())\n",
    "xgbr = XGBRegressor(eta=0.2,max_depth=9,random_state=7,n_estimators=500,subsample=0.8,learning_rate=0.1,gamma=0)\n",
    "xgbr.fit(X_train,y_train)\n",
    "y_pred_xgbr = xgbr.predict(X_test)\n",
    "print(\"End of XGBR \",datetime.datetime.now())\n",
    "rmse = np.sqrt(mean_squared_error(y_test,y_pred_xgbr))\n",
    "r2 = r2_score(y_test,y_pred_xgbr)\n",
    "\n",
    "print('Root mean squared error on Testing Set', rmse)\n",
    "print('R2 score on Testing Set: ', r2)"
   ]
  },
  {
   "cell_type": "code",
   "execution_count": 44,
   "metadata": {
    "collapsed": false
   },
   "outputs": [
    {
     "name": "stdout",
     "output_type": "stream",
     "text": [
      "Start of XGBR  2019-03-08 14:20:10.106852\n",
      "End of XGBR  2019-03-08 15:04:44.704914\n",
      "Root mean squared error on Testing Set 2926.512622728487\n",
      "R2 score on Testing Set:  0.6547005563455898\n"
     ]
    }
   ],
   "source": [
    "from xgboost import XGBRegressor\n",
    "print(\"Start of XGBR \",datetime.datetime.now())\n",
    "xgbr = XGBRegressor(eta=0.2,max_depth=9,random_state=7,n_estimators=800,subsample=0.8,learning_rate=0.1,gamma=0)\n",
    "xgbr.fit(X_train,y_train)\n",
    "y_pred_xgbr = xgbr.predict(X_test)\n",
    "print(\"End of XGBR \",datetime.datetime.now())\n",
    "rmse = np.sqrt(mean_squared_error(y_test,y_pred_xgbr))\n",
    "r2 = r2_score(y_test,y_pred_xgbr)\n",
    "\n",
    "print('Root mean squared error on Testing Set', rmse)\n",
    "print('R2 score on Testing Set: ', r2)"
   ]
  },
  {
   "cell_type": "markdown",
   "metadata": {},
   "source": [
    "### TEST DATA OF ANALYTICS VIDYA"
   ]
  },
  {
   "cell_type": "code",
   "execution_count": 197,
   "metadata": {
    "collapsed": false
   },
   "outputs": [
    {
     "name": "stderr",
     "output_type": "stream",
     "text": [
      "C:\\Program Files\\Anaconda3\\lib\\site-packages\\ipykernel\\__main__.py:23: SettingWithCopyWarning: \n",
      "A value is trying to be set on a copy of a slice from a DataFrame\n",
      "\n",
      "See the caveats in the documentation: http://pandas.pydata.org/pandas-docs/stable/indexing.html#indexing-view-versus-copy\n"
     ]
    }
   ],
   "source": [
    "train = pd.read_csv('train.csv')\n",
    "test = pd.read_csv('test.csv')\n",
    "\n",
    "train['Stay_In_Current_City_Years'] = train['Stay_In_Current_City_Years'].replace({'4+':4})\n",
    "train['Stay_In_Current_City_Years'].value_counts()\n",
    "\n",
    "test['Stay_In_Current_City_Years'] = test['Stay_In_Current_City_Years'].replace({'4+':4})\n",
    "test['Stay_In_Current_City_Years'].value_counts()\n",
    "\n",
    "train['Stay_In_Current_City_Years'] = train['Stay_In_Current_City_Years'].astype(int)\n",
    "test['Stay_In_Current_City_Years'] = test['Stay_In_Current_City_Years'].astype(int)\n",
    "\n",
    "#Since product 19,20 of product_cat_1 is not present in test,we delete it.\n",
    "train = train[(train.Product_Category_1 != 19) & (train.Product_Category_1 != 20)]\n",
    "\n",
    "train_dm = pd.get_dummies(train,drop_first=True,prefix_sep='_',columns=['Gender','Age','Occupation','City_Category','Marital_Status','Product_Category_2','Product_Category_1'])\n",
    "test_dm = pd.get_dummies(test,drop_first=True,prefix_sep='_',columns=['Gender','Age','Occupation','City_Category','Marital_Status','Product_Category_2','Product_Category_1'])\n",
    "\n",
    "train_dummy = train_dm.loc[:,~train_dm.columns.isin(['Purchase'])]\n",
    "target = train_dm.loc[:,'Purchase']\n",
    "\n",
    "train_dummy.drop(['User_ID','Product_ID','Product_Category_3'],axis=1,inplace=True)\n",
    "test_dm.drop(['User_ID','Product_ID','Product_Category_3'],axis=1,inplace=True)"
   ]
  },
  {
   "cell_type": "code",
   "execution_count": 196,
   "metadata": {
    "collapsed": false
   },
   "outputs": [
    {
     "data": {
      "text/plain": [
       "5     150933\n",
       "1     140378\n",
       "8     113925\n",
       "11     24287\n",
       "2      23864\n",
       "6      20466\n",
       "3      20213\n",
       "4      11753\n",
       "16      9828\n",
       "15      6290\n",
       "13      5549\n",
       "10      5125\n",
       "12      3947\n",
       "7       3721\n",
       "18      3125\n",
       "14      1523\n",
       "17       578\n",
       "9        410\n",
       "Name: Product_Category_1, dtype: int64"
      ]
     },
     "execution_count": 196,
     "metadata": {},
     "output_type": "execute_result"
    }
   ],
   "source": [
    "train = train[(train.Product_Category_1 != 19) & (train.Product_Category_1 != 20)]\n",
    "train['Product_Category_1'].value_counts()"
   ]
  },
  {
   "cell_type": "code",
   "execution_count": 199,
   "metadata": {
    "collapsed": false
   },
   "outputs": [
    {
     "name": "stderr",
     "output_type": "stream",
     "text": [
      "C:\\Program Files\\Anaconda3\\lib\\site-packages\\pandas\\core\\frame.py:2762: SettingWithCopyWarning: \n",
      "A value is trying to be set on a copy of a slice from a DataFrame\n",
      "\n",
      "See the caveats in the documentation: http://pandas.pydata.org/pandas-docs/stable/indexing.html#indexing-view-versus-copy\n",
      "  downcast=downcast, **kwargs)\n"
     ]
    },
    {
     "name": "stdout",
     "output_type": "stream",
     "text": [
      "(545915, 64)\n",
      "(233599, 64)\n"
     ]
    },
    {
     "data": {
      "text/plain": [
       "(545915,)"
      ]
     },
     "execution_count": 199,
     "metadata": {},
     "output_type": "execute_result"
    }
   ],
   "source": [
    "train_dummy.fillna(0,inplace=True)\n",
    "test_dm.fillna(0,inplace=True)\n",
    "print(train_dummy.shape)\n",
    "print(test_dm.shape)"
   ]
  },
  {
   "cell_type": "code",
   "execution_count": 201,
   "metadata": {
    "collapsed": false
   },
   "outputs": [
    {
     "name": "stdout",
     "output_type": "stream",
     "text": [
      "(545915, 64)\n",
      "(233599, 64)\n"
     ]
    }
   ],
   "source": [
    "#print(train_dummy.drop(['Product_Category_1_19','Product_Category_1_20'],inplace=True,axis=1))\n",
    "print(train_dummy.shape)\n",
    "print(test_dm.shape)\n",
    "print(test['Product_Category_1'].value_counts())\n",
    "print(test['Product_Category_2'].value_counts())"
   ]
  },
  {
   "cell_type": "code",
   "execution_count": 292,
   "metadata": {
    "collapsed": false
   },
   "outputs": [
    {
     "name": "stdout",
     "output_type": "stream",
     "text": [
      "Start of GBR  2019-03-05 19:31:11.319787\n",
      "End of GBR  2019-03-05 19:51:56.617887\n",
      "Root mean squared error on Training Set 2872.373102539415\n",
      "R2 score on Training Set:  0.6673013319209394\n"
     ]
    }
   ],
   "source": [
    "from sklearn.ensemble import GradientBoostingRegressor\n",
    "import datetime\n",
    "print(\"Start of GBR \",datetime.datetime.now())\n",
    "gbr_reg = GradientBoostingRegressor(learning_rate=0.2,max_features=8,random_state=7,max_depth=9,min_samples_split=2000,n_estimators=800,alpha=0.8)\n",
    "gbr_reg.fit(train_dummy,target)\n",
    "y_pred_train = gbr_reg.predict(train_dummy)\n",
    "y_pred_gbr = gbr_reg.predict(test_dm)\n",
    "print(\"End of GBR \",datetime.datetime.now())\n",
    "rmse = np.sqrt(mean_squared_error(target,y_pred_train))\n",
    "r2 = r2_score(target,y_pred_train)\n",
    "\n",
    "print('Root mean squared error on Training Set', rmse)\n",
    "print('R2 score on Training Set: ', r2)"
   ]
  },
  {
   "cell_type": "code",
   "execution_count": 293,
   "metadata": {
    "collapsed": false
   },
   "outputs": [],
   "source": [
    "test.drop('Purchase',inplace=True,axis=1)\n",
    "\n",
    "y_pred_gbr_pur = pd.DataFrame(data=y_pred_gbr,columns=['Purchase'])\n",
    "test = pd.concat((test,y_pred_gbr_pur),axis=1)\n",
    "test.columns\n",
    "\n",
    "test.to_csv('test_submission4.csv',index=False)"
   ]
  },
  {
   "cell_type": "markdown",
   "metadata": {},
   "source": [
    "### USING XGBOOST"
   ]
  },
  {
   "cell_type": "code",
   "execution_count": 308,
   "metadata": {
    "collapsed": false
   },
   "outputs": [
    {
     "name": "stderr",
     "output_type": "stream",
     "text": [
      "C:\\Program Files\\Anaconda3\\lib\\site-packages\\ipykernel\\__main__.py:23: SettingWithCopyWarning: \n",
      "A value is trying to be set on a copy of a slice from a DataFrame\n",
      "\n",
      "See the caveats in the documentation: http://pandas.pydata.org/pandas-docs/stable/indexing.html#indexing-view-versus-copy\n"
     ]
    }
   ],
   "source": [
    "## Treating Age categorical, products categorical and including all the 3 categories\n",
    "train = pd.read_csv('train.csv')\n",
    "test = pd.read_csv('test.csv')\n",
    "\n",
    "train['Stay_In_Current_City_Years'] = train['Stay_In_Current_City_Years'].replace({'4+':4})\n",
    "train['Stay_In_Current_City_Years'].value_counts()\n",
    "\n",
    "test['Stay_In_Current_City_Years'] = test['Stay_In_Current_City_Years'].replace({'4+':4})\n",
    "test['Stay_In_Current_City_Years'].value_counts()\n",
    "\n",
    "train['Stay_In_Current_City_Years'] = train['Stay_In_Current_City_Years'].astype(int)\n",
    "test['Stay_In_Current_City_Years'] = test['Stay_In_Current_City_Years'].astype(int)\n",
    "\n",
    "#Since product 19,20 of product_cat_1 is not present in test,we delete it.\n",
    "train = train[(train.Product_Category_1 != 19) & (train.Product_Category_1 != 20)]\n",
    "\n",
    "train_dm = pd.get_dummies(train,drop_first=True,prefix_sep='_',columns=['Age','Gender','Occupation','City_Category','Marital_Status','Product_Category_2','Product_Category_1','Product_Category_3'])\n",
    "test_dm = pd.get_dummies(test,drop_first=True,prefix_sep='_',columns=['Age','Gender','Occupation','City_Category','Marital_Status','Product_Category_2','Product_Category_1','Product_Category_3'])\n",
    "\n",
    "train_dummy = train_dm.loc[:,~train_dm.columns.isin(['Purchase'])]\n",
    "target = train_dm.loc[:,'Purchase']\n",
    "\n",
    "train_dummy.drop(['User_ID','Product_ID'],axis=1,inplace=True)\n",
    "test_dm.drop(['User_ID','Product_ID'],axis=1,inplace=True)\n",
    "\n",
    "# Not imputing NAs as trees can deal with that "
   ]
  },
  {
   "cell_type": "code",
   "execution_count": 323,
   "metadata": {
    "collapsed": false
   },
   "outputs": [
    {
     "name": "stdout",
     "output_type": "stream",
     "text": [
      "Start of GBR  2019-03-07 10:08:10.601591\n",
      "End of GBR  2019-03-07 11:12:33.781978\n",
      "Root mean squared error on Training Set 2651.5080994671275\n",
      "R2 score on Training Set:  0.7164985556202944\n"
     ]
    }
   ],
   "source": [
    "from xgboost import XGBRegressor\n",
    "print(\"Start of GBR \",datetime.datetime.now())\n",
    "xgbr = XGBRegressor(eta=0.2,max_depth=9,random_state=7,n_estimators=800,subsample=0.8,learning_rate=0.1,gamma=0)\n",
    "xgbr.fit(train_dummy,target)\n",
    "y_pred_train = xgbr.predict(train_dummy)\n",
    "y_pred_xgbr = xgbr.predict(test_dm)\n",
    "print(\"End of GBR \",datetime.datetime.now())\n",
    "rmse = np.sqrt(mean_squared_error(target,y_pred_train))\n",
    "r2 = r2_score(target,y_pred_train)\n",
    "\n",
    "print('Root mean squared error on Training Set', rmse)\n",
    "print('R2 score on Training Set: ', r2)"
   ]
  },
  {
   "cell_type": "code",
   "execution_count": 319,
   "metadata": {
    "collapsed": false
   },
   "outputs": [
    {
     "name": "stdout",
     "output_type": "stream",
     "text": [
      "Start of GBR  2019-03-06 22:32:33.431303\n",
      "End of GBR  2019-03-07 00:14:01.923554\n",
      "Root mean squared error on Training Set 2625.744754047372\n",
      "R2 score on Training Set:  0.7219810667177391\n"
     ]
    }
   ],
   "source": [
    "from xgboost import XGBRegressor\n",
    "#colsample_bytree=0.3-0.8 gamma=0,1,5   subsample=0.8-1\n",
    "print(\"Start of GBR \",datetime.datetime.now())\n",
    "xgbr = XGBRegressor(eta=0.2,max_depth=9,random_state=7,n_estimators=1000,subsample=0.8,learning_rate=0.1,gamma=0)\n",
    "xgbr.fit(train_dummy,target)\n",
    "y_pred_train = xgbr.predict(train_dummy)\n",
    "y_pred_xgbr = xgbr.predict(test_dm)\n",
    "print(\"End of GBR \",datetime.datetime.now())\n",
    "rmse = np.sqrt(mean_squared_error(target,y_pred_train))\n",
    "r2 = r2_score(target,y_pred_train)\n",
    "\n",
    "print('Root mean squared error on Training Set', rmse)\n",
    "print('R2 score on Training Set: ', r2)"
   ]
  },
  {
   "cell_type": "code",
   "execution_count": 301,
   "metadata": {
    "collapsed": false
   },
   "outputs": [
    {
     "data": {
      "text/plain": [
       "<bound method XGBModel.get_xgb_params of XGBRegressor(base_score=0.5, booster='gbtree', colsample_bylevel=1,\n",
       "       colsample_bytree=1, eta=0.2, gamma=0, learning_rate=0.1,\n",
       "       max_delta_step=0, max_depth=9, min_child_weight=1, missing=None,\n",
       "       n_estimators=500, n_jobs=1, nthread=None, objective='reg:linear',\n",
       "       random_state=7, reg_alpha=0, reg_lambda=1, scale_pos_weight=1,\n",
       "       seed=None, silent=True, subsample=0.8)>"
      ]
     },
     "execution_count": 301,
     "metadata": {},
     "output_type": "execute_result"
    }
   ],
   "source": [
    "xgbr.get_xgb_params"
   ]
  },
  {
   "cell_type": "code",
   "execution_count": 321,
   "metadata": {
    "collapsed": false
   },
   "outputs": [],
   "source": [
    "test.drop('Purchase',inplace=True,axis=1)\n",
    "\n",
    "y_pred_xgbr_pur = pd.DataFrame(data=y_pred_xgbr,columns=['Purchase'])\n",
    "test = pd.concat((test,y_pred_xgbr_pur),axis=1)\n",
    "test.columns\n",
    "\n",
    "test.to_csv('test_submission7.csv',index=False)"
   ]
  },
  {
   "cell_type": "markdown",
   "metadata": {
    "collapsed": true
   },
   "source": [
    "## CONCLUSION"
   ]
  },
  {
   "cell_type": "markdown",
   "metadata": {
    "collapsed": true
   },
   "source": [
    "#### 1.  When tested on the unknown test set of Analytics Vidya using XGBOOST the RMSE was 2866.3534989364 which ranked 726 in the leaders board.\n",
    "\n",
    "#### 2. The lowest RMSE was 2405. We can see that we have done quite a decent job in solving this regression problem. "
   ]
  },
  {
   "cell_type": "markdown",
   "metadata": {},
   "source": [
    "#### 3.For our test data (taken from Kaggle) we got an RMSE of 2903 and Rsquared of 0.66 using Gradient Boosting Regression."
   ]
  }
 ],
 "metadata": {
  "anaconda-cloud": {},
  "kernelspec": {
   "display_name": "Python [conda root]",
   "language": "python",
   "name": "conda-root-py"
  },
  "language_info": {
   "codemirror_mode": {
    "name": "ipython",
    "version": 3
   },
   "file_extension": ".py",
   "mimetype": "text/x-python",
   "name": "python",
   "nbconvert_exporter": "python",
   "pygments_lexer": "ipython3",
   "version": "3.5.2"
  }
 },
 "nbformat": 4,
 "nbformat_minor": 1
}
